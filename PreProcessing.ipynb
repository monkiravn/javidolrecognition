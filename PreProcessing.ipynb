{
 "cells": [
  {
   "cell_type": "code",
   "execution_count": 1,
   "metadata": {},
   "outputs": [
    {
     "name": "stderr",
     "output_type": "stream",
     "text": [
      "Using TensorFlow backend.\n"
     ]
    }
   ],
   "source": [
    "from PIL import Image\n",
    "import matplotlib.pyplot as plt\n",
    "import numpy as np\n",
    "from mtcnn.mtcnn import MTCNN\n",
    "import os\n",
    "from sklearn.preprocessing import LabelEncoder\n",
    "import pickle\n",
    "import collections\n",
    "\n",
    "detector = MTCNN()"
   ]
  },
  {
   "cell_type": "code",
   "execution_count": 2,
   "metadata": {},
   "outputs": [],
   "source": [
    "def image_raw_filter(folder_image_raw):\n",
    "    \"\"\"Bộ lọc ảnh raw, các ảnh không có mặt người hoặc có nhiều hơn 1 mặt, file gif, file lỗi sẽ bị xoá \"\"\"\n",
    "    for file in os.listdir(folder_image_raw):\n",
    "        print(\"Process \" + file)\n",
    "        image = Image.open(folder_image_raw + file)\n",
    "        image_type = image.format\n",
    "        if (image_type == \"JPEG\"):\n",
    "            image = image.convert(\"RGB\")\n",
    "            image = np.asarray(image)\n",
    "            face_location = detector.detect_faces(image)\n",
    "            face_number = len(face_location)\n",
    "            if (face_number == 0) or (face_number > 1) :\n",
    "                os.remove(folder_image_raw + file)\n",
    "                print(\"Remove \" + folder_image_raw + file )\n",
    "        else:\n",
    "            os.remove(folder_image_raw + file)\n",
    "            print(\"Remove \" + folder_image_raw + file )\n",
    "        "
   ]
  },
  {
   "cell_type": "code",
   "execution_count": 38,
   "metadata": {},
   "outputs": [
    {
     "name": "stdout",
     "output_type": "stream",
     "text": [
      "Process 86h -3-.jpg\n",
      "Process aino-kishi-2.jpg\n",
      "Process bed4b251f63b002e737a7284beff079a.jpg\n",
      "Process a80664d9547367db58f1fa368c8f7d65--nc.jpg\n",
      "Process images.jpeg\n",
      "Process 4071cc58a213486f8483e44ff769ddf3.JPG\n",
      "Process image.jpeg\n",
      "Process 2149147.jpg\n",
      "Process large.jpg\n",
      "Remove Dataset/data_raw_new/Aino Kishi/large.jpg\n",
      "Process Aino-Kishi-3-200x300.jpg\n",
      "Process gettyimages-475051816-1024x1024.jpg\n",
      "Process 054104085277F6196A0A3F42D0C7AB31.jpeg\n",
      "Process 1259608357-1.jpg\n",
      "Process models kimono asians yukata aino kishi juicy honey 1280x1920.jpg\n",
      "Process models japanese asians aino kishi juicy honey 1280x1920 wall.jpg\n",
      "Process p1-6269e604.png\n",
      "Remove Dataset/data_raw_new/Aino Kishi/p1-6269e604.png\n",
      "Process Aino Kishi love me love my small things13.jpg\n",
      "Process location-on-grey600-24dp.png\n",
      "Remove Dataset/data_raw_new/Aino Kishi/location-on-grey600-24dp.png\n",
      "Process 1JQeRV4K-400x400.jpg\n",
      "Process E3C9xYrK0kszpCSg.jpg\n",
      "Process maxresdefault.jpg\n",
      "Remove Dataset/data_raw_new/Aino Kishi/maxresdefault.jpg\n",
      "Process gettyimages-475051822-1024x1024.jpg\n",
      "Remove Dataset/data_raw_new/Aino Kishi/gettyimages-475051822-1024x1024.jpg\n",
      "Process apkUODbd3hZiY6qf9pCmagoPiZM.jpg\n",
      "Remove Dataset/data_raw_new/Aino Kishi/apkUODbd3hZiY6qf9pCmagoPiZM.jpg\n",
      "Process imgrc0065728457.jpg\n",
      "Remove Dataset/data_raw_new/Aino Kishi/imgrc0065728457.jpg\n",
      "Process googlelogo-dark-color-188x64dp.png\n",
      "Remove Dataset/data_raw_new/Aino Kishi/googlelogo-dark-color-188x64dp.png\n",
      "Process aino-kishi-japanese-gravure-region-2-dvd-video-120-minutes-u.jpg\n",
      "Process arrow-down.png\n",
      "Remove Dataset/data_raw_new/Aino Kishi/arrow-down.png\n",
      "Process rauo1.jpg\n",
      "Process bd19e6568e4d55ccc7534d7081d64ab5.jpg\n",
      "Process aino-kishi-photo.jpg\n",
      "Process 054104085282AE586A0A4C4C421D1232.jpeg\n",
      "Process 133622-aino-kishi.jpg\n",
      "Process nightingale.jpg\n",
      "Remove Dataset/data_raw_new/Aino Kishi/nightingale.jpg\n",
      "Process p2-3a0632af.png\n",
      "Remove Dataset/data_raw_new/Aino Kishi/p2-3a0632af.png\n",
      "Process 48.jpg\n",
      "Process 322494339270.jpg\n",
      "Process 5deb0cb08537b508eda5f29dc1cc54f2.jpg\n",
      "Process Aino-Kishi-Feet-3154502.jpg\n",
      "Remove Dataset/data_raw_new/Aino Kishi/Aino-Kishi-Feet-3154502.jpg\n",
      "Process checkmark.png\n",
      "Remove Dataset/data_raw_new/Aino Kishi/checkmark.png\n",
      "Process l -1-.jpg\n",
      "Process 3f3ac76fc52ca67cd41c8db05b3ce41c--asian-beauty-idol.jpg\n",
      "Process s200-aino-kishi.jpg-oh-5c\n",
      "Process unnamed.jpg\n",
      "Process Maidroid-MP-Poster-plus.jpg\n",
      "Process aino-kishi-cheki-auto-1-1-2a5d8efafbd3c463cbd0f468e5f32d5d.jpg\n",
      "Remove Dataset/data_raw_new/Aino Kishi/aino-kishi-cheki-auto-1-1-2a5d8efafbd3c463cbd0f468e5f32d5d.jpg\n",
      "Process 230min-DVD-Aino-Kishi-Cute-Asian-Gravure.jpg\n",
      "Process image-w1280.jpg\n",
      "Remove Dataset/data_raw_new/Aino Kishi/image-w1280.jpg\n",
      "Process aino-kishi-26-jh-22-japanese-idol-1-49bc78c7060776bda973d6db.jpg\n",
      "Remove Dataset/data_raw_new/Aino Kishi/aino-kishi-26-jh-22-japanese-idol-1-49bc78c7060776bda973d6db.jpg\n",
      "Process portrait.jpeg\n",
      "Process aino-kishi.jpg\n",
      "Remove Dataset/data_raw_new/Aino Kishi/aino-kishi.jpg\n",
      "Process 5qd1erIL9Imj-320x180.jpg\n",
      "Process lot2-aino-kishi-cheki-card-1-1-d5a89002876c1e4bd0967dad24d02.jpg\n",
      "Remove Dataset/data_raw_new/Aino Kishi/lot2-aino-kishi-cheki-card-1-1-d5a89002876c1e4bd0967dad24d02.jpg\n",
      "Process tumblr-nd2ybh9deg1r1o2iho1-400.jpg\n",
      "Process AINO-KISHI-Sign.png\n",
      "Remove Dataset/data_raw_new/Aino Kishi/AINO-KISHI-Sign.png\n",
      "Process 3e14a0813df4ad803c3d435c11d7672a.jpg\n",
      "Process gettyimages-475051820-1024x1024.jpg\n",
      "Remove Dataset/data_raw_new/Aino Kishi/gettyimages-475051820-1024x1024.jpg\n",
      "Process aino-kishi.png\n",
      "Remove Dataset/data_raw_new/Aino Kishi/aino-kishi.png\n",
      "Process Robot-Giup-Viec-The-Maidroid-2014-Poster-185x278.jpg\n",
      "Process 0541040857578BD16A0A4C04719BCD2B.jpeg\n",
      "Process aino-kishi-11.jpg\n",
      "Process qee1dspkpotdso98w8pi.jpg\n",
      "Remove Dataset/data_raw_new/Aino Kishi/qee1dspkpotdso98w8pi.jpg\n",
      "Process Aino Kishi-p1-600x900.jpg\n",
      "Process aipoke-union.jpg\n",
      "Remove Dataset/data_raw_new/Aino Kishi/aipoke-union.jpg\n",
      "Process 05410408529379156A0A4604DBAF9BEB.jpeg\n",
      "Process unnamed.png\n",
      "Remove Dataset/data_raw_new/Aino Kishi/unnamed.png\n",
      "Process demarco-murray-1988.jpg\n",
      "Process samurai-princess-eponymous-header.jpg\n",
      "Process hqdefault.jpg\n",
      "Remove Dataset/data_raw_new/Aino Kishi/hqdefault.jpg\n",
      "Process 57f91378cc52a3f7e86a3546ff71941c-400x400.jpeg\n",
      "Process images.png\n",
      "Remove Dataset/data_raw_new/Aino Kishi/images.png\n",
      "Process qzobctwwbsp.jpg\n",
      "Process mothers-day-2020-may-10-6753651837108382-s.png\n",
      "Remove Dataset/data_raw_new/Aino Kishi/mothers-day-2020-may-10-6753651837108382-s.png\n",
      "Process japanese-idol-aino-kishi-jhex-card-1-7eb0bee07e89f7208ecd8fd.jpg\n",
      "Process CeJJ6xBUUAAwH26.jpg\n",
      "Process s-l300.jpg\n",
      "Remove Dataset/data_raw_new/Aino Kishi/s-l300.jpg\n",
      "Process Aino-Kishi-7.jpg\n",
      "Process photo-1-15833937354041983309870.jpg\n",
      "Process models japanese kimono asians aino kishi juicy honey 1920x12.jpg\n",
      "Process 01-02.jpg\n"
     ]
    }
   ],
   "source": [
    "image_raw_filter(\"Dataset/data_raw_new/Aino Kishi/\")"
   ]
  },
  {
   "cell_type": "code",
   "execution_count": 3,
   "metadata": {
    "scrolled": false
   },
   "outputs": [],
   "source": [
    "#Xoá các ảnh không có mặt, file gif và có nhiều hơn 1 mặt\n",
    "PROCESS_FOLDER = \"Dataset/data_raw\"\n",
    "for folder in os.listdir(PROCESS_FOLDER):\n",
    "    print(\"\\tProcessing in \" + folder)\n",
    "    image_raw_filter(PROCESS_FOLDER + folder + \"/\")\n",
    "    print(\"\\tProcess finish! \" + folder)"
   ]
  },
  {
   "cell_type": "code",
   "execution_count": 5,
   "metadata": {},
   "outputs": [],
   "source": [
    "def crop_faces(raw_folder, processed_folder, size = (224,224)):\n",
    "    \"\"\" Crop face in raw folder \"\"\"\n",
    "    for folder in os.listdir(raw_folder):\n",
    "        print(\"\\tStart crop \" + folder + \" face!\")\n",
    "        os.mkdir(processed_folder + folder)\n",
    "        for file in os.listdir(raw_folder + folder):\n",
    "            print(\"Processing \" + file)\n",
    "            image = Image.open(raw_folder + folder + \"/\" + file)\n",
    "            image = image.convert('RGB')\n",
    "            image = np.asarray(image)\n",
    "            #detect face\n",
    "            face_image = detector.detect_faces(image)\n",
    "            if len(face_image) == 0 or len(face_image) > 1: \n",
    "                print(\"\\tCrop fail!\")\n",
    "            else:\n",
    "                x1, y1, width, height = face_image[0]['box']\n",
    "                x1, y1 = abs(x1), abs(y1)\n",
    "                x2, y2 = x1 + width, y1 + height\n",
    "                #crop face and resize\n",
    "                face = image[y1:y2,x1:x2]\n",
    "                image_face = Image.fromarray(face)\n",
    "                image_face = image_face.resize(size)\n",
    "                #save image\n",
    "                image_face.save(processed_folder + folder + \"/\" + file )\n",
    "        "
   ]
  },
  {
   "cell_type": "code",
   "execution_count": 6,
   "metadata": {},
   "outputs": [],
   "source": [
    "# Crop faces\n",
    "raw_folder = \"Dataset/data_raw_new/\"\n",
    "processed_folder = \"Dataset/data_process_new/\"\n",
    "crop_faces(raw_folder,processed_folder,size = (224,224))\n",
    "print(\"Crop face finish!\")"
   ]
  },
  {
   "cell_type": "code",
   "execution_count": 3,
   "metadata": {},
   "outputs": [],
   "source": [
    "def read_image(data_folder,save = False):\n",
    "    if os.path.exists(\"data_face_org.npz\"):\n",
    "        data = np.load(\"data_face_org.npz\")\n",
    "        data_X,data_y,class_number = data[\"arr_0\"],data[\"arr_1\"],data[\"arr_2\"]\n",
    "        class_number = np.asscalar(class_number)\n",
    "    else:\n",
    "        data_X = []\n",
    "        data_y = []\n",
    "        class_number = 0\n",
    "        for folder in os.listdir(data_folder):\n",
    "            print(\"\\tRead image \" + data_folder + folder + \"/\")\n",
    "            class_number += 1\n",
    "            for file in os.listdir(data_folder + folder):\n",
    "                image = Image.open(data_folder + folder + \"/\" + file)\n",
    "                image = image.convert(\"RGB\")\n",
    "                image = np.asarray(image)\n",
    "                data_X.append(image)\n",
    "                data_y.append(folder)\n",
    "        data_X = np.array(data_X)\n",
    "        data_y = np.array(data_y)\n",
    "        #Encoder data_y save file encoder\n",
    "        data_y_enc = LabelEncoder()\n",
    "        data_y_enc.fit(data_y)\n",
    "        data_y = data_y_enc.transform(data_y)\n",
    "        print(\"Encode label and save!\")\n",
    "        pkl_filename = \"data_y_enc_org.pkl\"\n",
    "        with open(pkl_filename, 'wb') as file:\n",
    "            pickle.dump(data_y_enc, file)\n",
    "    if save:\n",
    "        np.savez_compressed(\"data_face_org.npz\",data_X,data_y,class_number)\n",
    "    print(\"Load image done!\")\n",
    "    return data_X, data_y,class_number"
   ]
  },
  {
   "cell_type": "code",
   "execution_count": 4,
   "metadata": {
    "scrolled": true
   },
   "outputs": [
    {
     "name": "stdout",
     "output_type": "stream",
     "text": [
      "\tRead image Dataset/data_process/Mio Kuraki/\n",
      "\tRead image Dataset/data_process/Suzuka Ishikawa/\n",
      "\tRead image Dataset/data_process/Kana Tsuruta/\n",
      "\tRead image Dataset/data_process/Saki Ninomiya/\n",
      "\tRead image Dataset/data_process/Shizuka Nakamura/\n",
      "\tRead image Dataset/data_process/Sumire Matsu/\n",
      "\tRead image Dataset/data_process/Yuma Asami/\n",
      "\tRead image Dataset/data_process/Tiara Ayase/\n",
      "\tRead image Dataset/data_process/Rina Ishihara/\n",
      "\tRead image Dataset/data_process/Tomoka Sakurai/\n",
      "\tRead image Dataset/data_process/Tsukasa Aoi/\n",
      "\tRead image Dataset/data_process/Kaori Ishii/\n",
      "\tRead image Dataset/data_process/Kotomi Asakura/\n",
      "\tRead image Dataset/data_process/Ai Sayama/\n",
      "\tRead image Dataset/data_process/Yumi Sugimoto/\n",
      "\tRead image Dataset/data_process/Kaho Kasumi/\n",
      "\tRead image Dataset/data_process/Rina Itoh/\n",
      "\tRead image Dataset/data_process/Rina Rukawa/\n",
      "\tRead image Dataset/data_process/Ai Himeno/\n",
      "\tRead image Dataset/data_process/Hikaru Shiina/\n",
      "\tRead image Dataset/data_process/Rina Koike/\n",
      "\tRead image Dataset/data_process/Mikie Hara/\n",
      "\tRead image Dataset/data_process/Minami Kojima/\n",
      "\tRead image Dataset/data_process/Yuri Hamada/\n",
      "\tRead image Dataset/data_process/Aya Kiguchi/\n",
      "\tRead image Dataset/data_process/Aya Kisaki/\n",
      "\tRead image Dataset/data_process/Ameri Ichinose/\n",
      "\tRead image Dataset/data_process/Asuka Kishi/\n",
      "\tRead image Dataset/data_process/Rina Aizawa/\n",
      "\tRead image Dataset/data_process/Hinata Tachibana/\n",
      "\tRead image Dataset/data_process/Tsuna Kimura/\n",
      "\tRead image Dataset/data_process/Hibiki Otsuki/\n",
      "\tRead image Dataset/data_process/Akiho Yoshizawa/\n",
      "\tRead image Dataset/data_process/Kana Yume/\n",
      "\tRead image Dataset/data_process/Mana Sakura/\n",
      "\tRead image Dataset/data_process/Kotone Amamiya/\n",
      "\tRead image Dataset/data_process/Necoco/\n",
      "\tRead image Dataset/data_process/Chika Arimura/\n",
      "\tRead image Dataset/data_process/Jessica Kizaki/\n",
      "\tRead image Dataset/data_process/Rin Higurashi/\n",
      "\tRead image Dataset/data_process/Tsubomi/\n",
      "\tRead image Dataset/data_process/Aki Hoshino/\n",
      "\tRead image Dataset/data_process/Riku Minato/\n",
      "\tRead image Dataset/data_process/Ria Sakurai/\n",
      "\tRead image Dataset/data_process/Azusa Yamamoto/\n",
      "\tRead image Dataset/data_process/Takizawa Laura/\n",
      "\tRead image Dataset/data_process/Nozomi Hazuki/\n",
      "\tRead image Dataset/data_process/Nana Ogura/\n",
      "\tRead image Dataset/data_process/Risa Yoshiki/\n",
      "\tRead image Dataset/data_process/Emi Asano/\n",
      "\tRead image Dataset/data_process/Megumi Haruka/\n",
      "\tRead image Dataset/data_process/Maria Ozawa/\n",
      "\tRead image Dataset/data_process/Ai Uehara/\n",
      "\tRead image Dataset/data_process/Mihiro Taniguchi/\n",
      "\tRead image Dataset/data_process/Kirara Asuka/\n",
      "\tRead image Dataset/data_process/Yoko Kumada/\n",
      "\tRead image Dataset/data_process/Megumi Shino/\n",
      "\tRead image Dataset/data_process/Sora Aoi/\n",
      "\tRead image Dataset/data_process/Yui Hatano/\n",
      "\tRead image Dataset/data_process/Ren Azumi/\n",
      "\tRead image Dataset/data_process/Love Satomi/\n",
      "\tRead image Dataset/data_process/Noriko Ashiya/\n",
      "\tRead image Dataset/data_process/Hina Maeda/\n",
      "\tRead image Dataset/data_process/Anri Sugihara/\n",
      "\tRead image Dataset/data_process/Ayaka Sayama/\n",
      "\tRead image Dataset/data_process/Kokomi Naruse/\n",
      "\tRead image Dataset/data_process/Minori Hatsune/\n",
      "\tRead image Dataset/data_process/Aino Kishi/\n",
      "\tRead image Dataset/data_process/Hiyo Nishizuku/\n",
      "\tRead image Dataset/data_process/Yuu Shinoda/\n",
      "\tRead image Dataset/data_process/Ai Shinozaki/\n",
      "\tRead image Dataset/data_process/Maki Hojo/\n",
      "\tRead image Dataset/data_process/Tina Yuzuki/\n",
      "\tRead image Dataset/data_process/Azumi Harusaki/\n",
      "\tRead image Dataset/data_process/Mai Nishida/\n",
      "\tRead image Dataset/data_process/Anna Konno/\n",
      "Encode label and save!\n",
      "Load image done!\n"
     ]
    }
   ],
   "source": [
    "DATA_FOLDER = \"Dataset/data_process/\"\n",
    "data_X,data_y,class_number = read_image(DATA_FOLDER,save = True)"
   ]
  },
  {
   "cell_type": "code",
   "execution_count": 5,
   "metadata": {},
   "outputs": [
    {
     "name": "stdout",
     "output_type": "stream",
     "text": [
      "(3364, 224, 224, 3)\n",
      "(3364,)\n"
     ]
    },
    {
     "data": {
      "text/plain": [
       "76"
      ]
     },
     "execution_count": 5,
     "metadata": {},
     "output_type": "execute_result"
    }
   ],
   "source": [
    "print(data_X.shape)\n",
    "print(data_y.shape)\n",
    "class_number"
   ]
  },
  {
   "cell_type": "code",
   "execution_count": 6,
   "metadata": {},
   "outputs": [],
   "source": [
    "# Load ouput_enc từ file để hiển thị nhãn\n",
    "pkl_filename = 'data_y_enc_org.pkl'\n",
    "with open(pkl_filename, 'rb') as file:\n",
    "    output_enc = pickle.load(file)"
   ]
  },
  {
   "cell_type": "code",
   "execution_count": 7,
   "metadata": {},
   "outputs": [],
   "source": [
    "def vizual_data(data_y):\n",
    "    count = collections.Counter(data_y)\n",
    "    count = dict(count.items())\n",
    "    count_sorted = sorted(count.items(), key=lambda x: x[1])\n",
    "    idol_num_image = []\n",
    "    idol_name = []\n",
    "    for data in count_sorted:\n",
    "        idol_name.append(data[0])\n",
    "        idol_num_image.append(data[1])\n",
    "    divsion = [\"0-9\",\"10-19\",\"20-29\",\"30-39\",\"40-49\",\"50-59\",\"60-69\",\"70-79\",\"80-89\",\"90-99\",\"100-109\",\"110-119\",\"120-129\",\n",
    "              \"130-139\",\"140-149\",\"150-159\",\"160-169\",\"170-179\"]\n",
    "    vizual_data = []\n",
    "    for i in range(1,np.max(idol_num_image)//10 + 2):\n",
    "        temp = 0\n",
    "        for num in idol_num_image:\n",
    "            if  10*(i-1)<= num < 10*i: temp +=1\n",
    "        vizual_data.append(temp)\n",
    "    plt.barh(divsion,vizual_data)\n",
    "    plt.xlabel(\"Number class\")\n",
    "    plt.ylabel(\"Number Image\")\n",
    "    plt.title(\"Image per class\")\n",
    "    plt.show()\n",
    "    idol_name = output_enc.inverse_transform(idol_name)\n",
    "    print(\"Class has the most images: \" + str(idol_name[np.argmax(idol_num_image)])+ \" \" + str(np.max(idol_num_image)) + \" images\")\n",
    "    print(\"Class has the least images: \" + str(idol_name[np.argmin(idol_num_image)])+ \" \" + str(np.min(idol_num_image)) + \" images\")\n",
    "    print(\"Average image per class: \" + str(round(np.mean(idol_num_image))) + \" images\")\n",
    "    return idol_num_image, idol_name"
   ]
  },
  {
   "cell_type": "code",
   "execution_count": 8,
   "metadata": {},
   "outputs": [],
   "source": [
    "def find_least_classes(data_y, num_class_find = 10):\n",
    "    idol_num_image, idol_name = vizual_data(data_y)\n",
    "    name_class_find = []\n",
    "    for i in range(num_class_find):\n",
    "        name_class_find.append(idol_name[i])\n",
    "    return name_class_find\n",
    "        "
   ]
  },
  {
   "cell_type": "code",
   "execution_count": 9,
   "metadata": {},
   "outputs": [
    {
     "data": {
      "image/png": "[encoded data removed]",
      "text/plain": [
       "<Figure size 432x288 with 1 Axes>"
      ]
     },
     "metadata": {
      "needs_background": "light"
     },
     "output_type": "display_data"
    },
    {
     "name": "stdout",
     "output_type": "stream",
     "text": [
      "Class has the most images: Mikie Hara 174 images\n",
      "Class has the least images: Tomoka Sakurai 9 images\n",
      "Average image per class: 44.0 images\n"
     ]
    }
   ],
   "source": [
    "least_classes = find_least_classes(data_y, num_class_find = 10)"
   ]
  },
  {
   "cell_type": "code",
   "execution_count": 10,
   "metadata": {},
   "outputs": [],
   "source": [
    "def find_deficient_classes(data_y, threshold = 50):\n",
    "    idol_num_image, idol_name = vizual_data(data_y)\n",
    "    name_class_find = []\n",
    "    for i in range(class_number):\n",
    "        if idol_num_image[i] <= threshold: \n",
    "            name_class_find.append(idol_name[i])\n",
    "    return name_class_find"
   ]
  },
  {
   "cell_type": "code",
   "execution_count": 12,
   "metadata": {},
   "outputs": [
    {
     "data": {
      "image/png": "[encoded data removed]",
      "text/plain": [
       "<Figure size 432x288 with 1 Axes>"
      ]
     },
     "metadata": {
      "needs_background": "light"
     },
     "output_type": "display_data"
    },
    {
     "name": "stdout",
     "output_type": "stream",
     "text": [
      "Class has the most images: Mikie Hara 174 images\n",
      "Class has the least images: Tomoka Sakurai 9 images\n",
      "Average image per class: 44.0 images\n"
     ]
    },
    {
     "data": {
      "text/plain": [
       "(['Tomoka Sakurai',\n",
       "  'Ai Himeno',\n",
       "  'Tiara Ayase',\n",
       "  'Hinata Tachibana',\n",
       "  'Rina Ishihara',\n",
       "  'Sora Aoi',\n",
       "  'Hina Maeda',\n",
       "  'Nozomi Hazuki',\n",
       "  'Sumire Matsu',\n",
       "  'Hikaru Shiina',\n",
       "  'Ren Azumi',\n",
       "  'Yuu Shinoda',\n",
       "  'Kotone Amamiya',\n",
       "  'Hiyo Nishizuku',\n",
       "  'Megumi Haruka',\n",
       "  'Azumi Harusaki',\n",
       "  'Minami Kojima',\n",
       "  'Saki Ninomiya',\n",
       "  'Tsubomi',\n",
       "  'Minori Hatsune',\n",
       "  'Tsuna Kimura',\n",
       "  'Ameri Ichinose',\n",
       "  'Love Satomi',\n",
       "  'Hibiki Otsuki',\n",
       "  'Tsukasa Aoi',\n",
       "  'Maki Hojo',\n",
       "  'Takizawa Laura',\n",
       "  'Nana Ogura',\n",
       "  'Megumi Shino',\n",
       "  'Ai Sayama',\n",
       "  'Rina Rukawa',\n",
       "  'Kirara Asuka',\n",
       "  'Rin Higurashi',\n",
       "  'Noriko Ashiya',\n",
       "  'Aya Kisaki',\n",
       "  'Kana Yume',\n",
       "  'Chika Arimura',\n",
       "  'Emi Asano',\n",
       "  'Kaho Kasumi',\n",
       "  'Mio Kuraki',\n",
       "  'Riku Minato',\n",
       "  'Kokomi Naruse'],\n",
       " 42)"
      ]
     },
     "execution_count": 12,
     "metadata": {},
     "output_type": "execute_result"
    }
   ],
   "source": [
    "deficient_classes = find_deficient_classes(data_y, 40)\n",
    "deficient_classes, len(deficient_classes)"
   ]
  },
  {
   "cell_type": "code",
   "execution_count": 19,
   "metadata": {},
   "outputs": [],
   "source": [
    "def read_image_processed(data_folder, ignore_folder,save = False):\n",
    "    if os.path.exists(\"data_face_processed.npz\"):\n",
    "        data = np.load(\"data_face_processed.npz\")\n",
    "        data_X,data_y,class_number = data[\"arr_0\"],data[\"arr_1\"],data[\"arr_2\"]\n",
    "        class_number = np.asscalar(class_number)\n",
    "    else:\n",
    "        data_X = []\n",
    "        data_y = []\n",
    "        class_number = 0\n",
    "        for folder in os.listdir(data_folder):\n",
    "            print(\"\\tRead image \" + data_folder + folder + \"/\")\n",
    "            if folder in ignore_folder:\n",
    "                print(\"\\t Ignore \"  + folder + \"/\")\n",
    "                continue\n",
    "            class_number += 1\n",
    "            for file in os.listdir(data_folder + folder):\n",
    "                image = Image.open(data_folder + folder + \"/\" + file)\n",
    "                image = image.convert(\"RGB\")\n",
    "                image = np.asarray(image)\n",
    "                data_X.append(image)\n",
    "                data_y.append(folder)\n",
    "        data_X = np.array(data_X)\n",
    "        data_y = np.array(data_y)\n",
    "        #Encoder data_y save file encoder\n",
    "        data_y_enc = LabelEncoder()\n",
    "        data_y_enc.fit(data_y)\n",
    "        data_y = data_y_enc.transform(data_y)\n",
    "        print(\"Encode label and save!\")\n",
    "        pkl_filename = \"data_y_enc_processed.pkl\"\n",
    "        with open(pkl_filename, 'wb') as file:\n",
    "            pickle.dump(data_y_enc, file)\n",
    "    if save:\n",
    "        np.savez_compressed(\"data_face_processed.npz\",data_X,data_y)\n",
    "    print(\"Load image done!\")\n",
    "    return data_X, data_y,class_number"
   ]
  },
  {
   "cell_type": "code",
   "execution_count": 20,
   "metadata": {},
   "outputs": [
    {
     "name": "stdout",
     "output_type": "stream",
     "text": [
      "\tRead image Dataset/data_process/Mio Kuraki/\n",
      "\tRead image Dataset/data_process/Suzuka Ishikawa/\n",
      "\tRead image Dataset/data_process/Kana Tsuruta/\n",
      "\tRead image Dataset/data_process/Saki Ninomiya/\n",
      "\t Ignore Saki Ninomiya/\n",
      "\tRead image Dataset/data_process/Shizuka Nakamura/\n",
      "\tRead image Dataset/data_process/Sumire Matsu/\n",
      "\t Ignore Sumire Matsu/\n",
      "\tRead image Dataset/data_process/Yuma Asami/\n",
      "\tRead image Dataset/data_process/Tiara Ayase/\n",
      "\t Ignore Tiara Ayase/\n",
      "\tRead image Dataset/data_process/Rina Ishihara/\n",
      "\t Ignore Rina Ishihara/\n",
      "\tRead image Dataset/data_process/Tomoka Sakurai/\n",
      "\t Ignore Tomoka Sakurai/\n",
      "\tRead image Dataset/data_process/Tsukasa Aoi/\n",
      "\tRead image Dataset/data_process/Kaori Ishii/\n",
      "\tRead image Dataset/data_process/Kotomi Asakura/\n",
      "\tRead image Dataset/data_process/Ai Sayama/\n",
      "\tRead image Dataset/data_process/Yumi Sugimoto/\n",
      "\tRead image Dataset/data_process/Kaho Kasumi/\n",
      "\tRead image Dataset/data_process/Rina Itoh/\n",
      "\tRead image Dataset/data_process/Rina Rukawa/\n",
      "\tRead image Dataset/data_process/Ai Himeno/\n",
      "\t Ignore Ai Himeno/\n",
      "\tRead image Dataset/data_process/Hikaru Shiina/\n",
      "\t Ignore Hikaru Shiina/\n",
      "\tRead image Dataset/data_process/Rina Koike/\n",
      "\tRead image Dataset/data_process/Mikie Hara/\n",
      "\tRead image Dataset/data_process/Minami Kojima/\n",
      "\t Ignore Minami Kojima/\n",
      "\tRead image Dataset/data_process/Yuri Hamada/\n",
      "\tRead image Dataset/data_process/Aya Kiguchi/\n",
      "\tRead image Dataset/data_process/Aya Kisaki/\n",
      "\tRead image Dataset/data_process/Ameri Ichinose/\n",
      "\t Ignore Ameri Ichinose/\n",
      "\tRead image Dataset/data_process/Asuka Kishi/\n",
      "\tRead image Dataset/data_process/Rina Aizawa/\n",
      "\tRead image Dataset/data_process/Hinata Tachibana/\n",
      "\t Ignore Hinata Tachibana/\n",
      "\tRead image Dataset/data_process/Tsuna Kimura/\n",
      "\t Ignore Tsuna Kimura/\n",
      "\tRead image Dataset/data_process/Hibiki Otsuki/\n",
      "\tRead image Dataset/data_process/Akiho Yoshizawa/\n",
      "\tRead image Dataset/data_process/Kana Yume/\n",
      "\tRead image Dataset/data_process/Mana Sakura/\n",
      "\tRead image Dataset/data_process/Kotone Amamiya/\n",
      "\t Ignore Kotone Amamiya/\n",
      "\tRead image Dataset/data_process/Necoco/\n",
      "\tRead image Dataset/data_process/Chika Arimura/\n",
      "\tRead image Dataset/data_process/Jessica Kizaki/\n",
      "\tRead image Dataset/data_process/Rin Higurashi/\n",
      "\tRead image Dataset/data_process/Tsubomi/\n",
      "\t Ignore Tsubomi/\n",
      "\tRead image Dataset/data_process/Aki Hoshino/\n",
      "\tRead image Dataset/data_process/Riku Minato/\n",
      "\tRead image Dataset/data_process/Ria Sakurai/\n",
      "\tRead image Dataset/data_process/Azusa Yamamoto/\n",
      "\tRead image Dataset/data_process/Takizawa Laura/\n",
      "\tRead image Dataset/data_process/Nozomi Hazuki/\n",
      "\t Ignore Nozomi Hazuki/\n",
      "\tRead image Dataset/data_process/Nana Ogura/\n",
      "\tRead image Dataset/data_process/Risa Yoshiki/\n",
      "\tRead image Dataset/data_process/Emi Asano/\n",
      "\tRead image Dataset/data_process/Megumi Haruka/\n",
      "\t Ignore Megumi Haruka/\n",
      "\tRead image Dataset/data_process/Maria Ozawa/\n",
      "\tRead image Dataset/data_process/Ai Uehara/\n",
      "\tRead image Dataset/data_process/Mihiro Taniguchi/\n",
      "\tRead image Dataset/data_process/Kirara Asuka/\n",
      "\tRead image Dataset/data_process/Yoko Kumada/\n",
      "\tRead image Dataset/data_process/Megumi Shino/\n",
      "\tRead image Dataset/data_process/Sora Aoi/\n",
      "\t Ignore Sora Aoi/\n",
      "\tRead image Dataset/data_process/Yui Hatano/\n",
      "\tRead image Dataset/data_process/Ren Azumi/\n",
      "\t Ignore Ren Azumi/\n",
      "\tRead image Dataset/data_process/Love Satomi/\n",
      "\t Ignore Love Satomi/\n",
      "\tRead image Dataset/data_process/Noriko Ashiya/\n",
      "\tRead image Dataset/data_process/Hina Maeda/\n",
      "\t Ignore Hina Maeda/\n",
      "\tRead image Dataset/data_process/Anri Sugihara/\n",
      "\tRead image Dataset/data_process/Ayaka Sayama/\n",
      "\tRead image Dataset/data_process/Kokomi Naruse/\n",
      "\tRead image Dataset/data_process/Minori Hatsune/\n",
      "\t Ignore Minori Hatsune/\n",
      "\tRead image Dataset/data_process/Aino Kishi/\n",
      "\tRead image Dataset/data_process/Hiyo Nishizuku/\n",
      "\t Ignore Hiyo Nishizuku/\n",
      "\tRead image Dataset/data_process/Yuu Shinoda/\n",
      "\t Ignore Yuu Shinoda/\n",
      "\tRead image Dataset/data_process/Ai Shinozaki/\n",
      "\tRead image Dataset/data_process/Maki Hojo/\n",
      "\tRead image Dataset/data_process/Tina Yuzuki/\n",
      "\tRead image Dataset/data_process/Azumi Harusaki/\n",
      "\t Ignore Azumi Harusaki/\n",
      "\tRead image Dataset/data_process/Mai Nishida/\n",
      "\tRead image Dataset/data_process/Anna Konno/\n",
      "Encode label and save!\n",
      "Load image done!\n"
     ]
    }
   ],
   "source": [
    "data_X, data_y,class_number = read_image_processed(DATA_FOLDER, deficient_classes, save = True)"
   ]
  },
  {
   "cell_type": "code",
   "execution_count": 21,
   "metadata": {
    "scrolled": true
   },
   "outputs": [
    {
     "name": "stdout",
     "output_type": "stream",
     "text": [
      "[(0, 34), (1, 68), (2, 41), (3, 43), (4, 78), (5, 60), (6, 44), (7, 61), (8, 44), (9, 66), (10, 36), (11, 66), (12, 83), (13, 36), (14, 36), (15, 31), (16, 76), (17, 38), (18, 41), (19, 36), (20, 63), (21, 34), (22, 40), (23, 61), (24, 63), (25, 32), (26, 51), (27, 47), (28, 33), (29, 46), (30, 174), (31, 39), (32, 33), (33, 56), (34, 35), (35, 46), (36, 40), (37, 35), (38, 107), (39, 70), (40, 72), (41, 34), (42, 65), (43, 110), (44, 43), (45, 33), (46, 52), (47, 32), (48, 66), (49, 74), (50, 49), (51, 132), (52, 56)]\n"
     ]
    }
   ],
   "source": [
    "print(sorted(collections.Counter(data_y).items()))"
   ]
  },
  {
   "cell_type": "code",
   "execution_count": 27,
   "metadata": {},
   "outputs": [],
   "source": [
    "from sklearn.model_selection import train_test_split\n",
    "\n",
    "X_train_org, X_test_org, y_train_org, y_test_org = train_test_split(data_X,data_y, test_size = 0.2)"
   ]
  },
  {
   "cell_type": "code",
   "execution_count": 28,
   "metadata": {},
   "outputs": [
    {
     "data": {
      "text/plain": [
       "((2352, 224, 224, 3), (2352,), (589, 224, 224, 3), (589,))"
      ]
     },
     "execution_count": 28,
     "metadata": {},
     "output_type": "execute_result"
    }
   ],
   "source": [
    "X_train_org.shape, y_train_org.shape, X_test_org.shape, y_test_org.shape"
   ]
  },
  {
   "cell_type": "code",
   "execution_count": 29,
   "metadata": {},
   "outputs": [
    {
     "name": "stdout",
     "output_type": "stream",
     "text": [
      "[(0, 27), (1, 49), (2, 33), (3, 37), (4, 62), (5, 49), (6, 39), (7, 43), (8, 33), (9, 51), (10, 29), (11, 53), (12, 74), (13, 31), (14, 22), (15, 23), (16, 60), (17, 29), (18, 36), (19, 31), (20, 46), (21, 23), (22, 29), (23, 44), (24, 52), (25, 25), (26, 40), (27, 39), (28, 28), (29, 37), (30, 142), (31, 32), (32, 24), (33, 46), (34, 29), (35, 32), (36, 36), (37, 27), (38, 90), (39, 55), (40, 58), (41, 30), (42, 51), (43, 85), (44, 33), (45, 29), (46, 41), (47, 27), (48, 54), (49, 62), (50, 40), (51, 110), (52, 45)]\n"
     ]
    }
   ],
   "source": [
    "print(sorted(collections.Counter(y_train_org).items()))"
   ]
  },
  {
   "cell_type": "code",
   "execution_count": 30,
   "metadata": {},
   "outputs": [
    {
     "name": "stdout",
     "output_type": "stream",
     "text": [
      "[(0, 7), (1, 19), (2, 8), (3, 6), (4, 16), (5, 11), (6, 5), (7, 18), (8, 11), (9, 15), (10, 7), (11, 13), (12, 9), (13, 5), (14, 14), (15, 8), (16, 16), (17, 9), (18, 5), (19, 5), (20, 17), (21, 11), (22, 11), (23, 17), (24, 11), (25, 7), (26, 11), (27, 8), (28, 5), (29, 9), (30, 32), (31, 7), (32, 9), (33, 10), (34, 6), (35, 14), (36, 4), (37, 8), (38, 17), (39, 15), (40, 14), (41, 4), (42, 14), (43, 25), (44, 10), (45, 4), (46, 11), (47, 5), (48, 12), (49, 12), (50, 9), (51, 22), (52, 11)]\n"
     ]
    }
   ],
   "source": [
    "print(sorted(collections.Counter(y_test_org).items()))"
   ]
  },
  {
   "cell_type": "code",
   "execution_count": 31,
   "metadata": {},
   "outputs": [],
   "source": [
    "np.savez_compressed(\"data_face_train_imb.npz\",X_train_org, X_test_org, y_train_org, y_test_org, class_number)"
   ]
  },
  {
   "cell_type": "code",
   "execution_count": 32,
   "metadata": {},
   "outputs": [],
   "source": [
    "#Xử lý mất cân bằng dữ liệu bằng oversampling\n",
    "from imblearn.over_sampling import RandomOverSampler\n",
    "oversample = RandomOverSampler(random_state=0)\n",
    "X_train_imb = X_train_org.reshape(X_train_org.shape[0],-1)\n",
    "X_train, y_train = oversample.fit_resample(X_train_imb,y_train_org)\n",
    "X_train = X_train.reshape(X_train.shape[0],224,224,3)\n",
    "X_test_imb = X_test_org.reshape(X_test_org.shape[0],-1)\n",
    "X_test, y_test = oversample.fit_resample(X_test_imb,y_test_org)\n",
    "X_test = X_test.reshape(X_test.shape[0],224,224,3)"
   ]
  },
  {
   "cell_type": "code",
   "execution_count": 33,
   "metadata": {},
   "outputs": [
    {
     "name": "stdout",
     "output_type": "stream",
     "text": [
      "[(0, 142), (1, 142), (2, 142), (3, 142), (4, 142), (5, 142), (6, 142), (7, 142), (8, 142), (9, 142), (10, 142), (11, 142), (12, 142), (13, 142), (14, 142), (15, 142), (16, 142), (17, 142), (18, 142), (19, 142), (20, 142), (21, 142), (22, 142), (23, 142), (24, 142), (25, 142), (26, 142), (27, 142), (28, 142), (29, 142), (30, 142), (31, 142), (32, 142), (33, 142), (34, 142), (35, 142), (36, 142), (37, 142), (38, 142), (39, 142), (40, 142), (41, 142), (42, 142), (43, 142), (44, 142), (45, 142), (46, 142), (47, 142), (48, 142), (49, 142), (50, 142), (51, 142), (52, 142)]\n"
     ]
    }
   ],
   "source": [
    "print(sorted(collections.Counter(y_train).items()))"
   ]
  },
  {
   "cell_type": "code",
   "execution_count": 34,
   "metadata": {},
   "outputs": [
    {
     "name": "stdout",
     "output_type": "stream",
     "text": [
      "[(0, 32), (1, 32), (2, 32), (3, 32), (4, 32), (5, 32), (6, 32), (7, 32), (8, 32), (9, 32), (10, 32), (11, 32), (12, 32), (13, 32), (14, 32), (15, 32), (16, 32), (17, 32), (18, 32), (19, 32), (20, 32), (21, 32), (22, 32), (23, 32), (24, 32), (25, 32), (26, 32), (27, 32), (28, 32), (29, 32), (30, 32), (31, 32), (32, 32), (33, 32), (34, 32), (35, 32), (36, 32), (37, 32), (38, 32), (39, 32), (40, 32), (41, 32), (42, 32), (43, 32), (44, 32), (45, 32), (46, 32), (47, 32), (48, 32), (49, 32), (50, 32), (51, 32), (52, 32)]\n"
     ]
    }
   ],
   "source": [
    "print(sorted(collections.Counter(y_test).items()))"
   ]
  },
  {
   "cell_type": "code",
   "execution_count": 35,
   "metadata": {},
   "outputs": [
    {
     "data": {
      "text/plain": [
       "((7526, 224, 224, 3), (1696, 224, 224, 3), (7526,), (1696,))"
      ]
     },
     "execution_count": 35,
     "metadata": {},
     "output_type": "execute_result"
    }
   ],
   "source": [
    "X_train.shape, X_test.shape, y_train.shape, y_test.shape"
   ]
  },
  {
   "cell_type": "code",
   "execution_count": 36,
   "metadata": {},
   "outputs": [],
   "source": [
    "np.savez_compressed(\"data_face_train.npz\",X_train, X_test, y_train, y_test, class_number)"
   ]
  },
  {
   "cell_type": "code",
   "execution_count": null,
   "metadata": {},
   "outputs": [],
   "source": []
  }
 ],
 "metadata": {
  "kernelspec": {
   "display_name": "Python 3",
   "language": "python",
   "name": "python3"
  },
  "language_info": {
   "codemirror_mode": {
    "name": "ipython",
    "version": 3
   },
   "file_extension": ".py",
   "mimetype": "text/x-python",
   "name": "python",
   "nbconvert_exporter": "python",
   "pygments_lexer": "ipython3",
   "version": "3.6.10"
  }
 },
 "nbformat": 4,
 "nbformat_minor": 4
}
