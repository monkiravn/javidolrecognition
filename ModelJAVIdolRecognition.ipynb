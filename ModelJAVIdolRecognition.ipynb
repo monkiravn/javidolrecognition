{
 "cells": [
  {
   "cell_type": "code",
   "execution_count": 0,
   "metadata": {
    "colab": {
     "base_uri": "https://localhost:8080/",
     "height": 187
    },
    "colab_type": "code",
    "executionInfo": {
     "elapsed": 5917,
     "status": "ok",
     "timestamp": 1587630123570,
     "user": {
      "displayName": "Mon Kira",
      "photoUrl": "https://lh3.googleusercontent.com/a-/AOh14Ghnd3_tIVPedIyrfyyHFqf1qFCu2R9crm6huM7naQ=s64",
      "userId": "12883883578266961117"
     },
     "user_tz": -420
    },
    "id": "J2WCqyXFDZ5D",
    "outputId": "d2a95a4b-e98c-44e9-ad85-1a29f4104ddf",
    "scrolled": true
   },
   "outputs": [
    {
     "name": "stdout",
     "output_type": "stream",
     "text": [
      "Requirement already satisfied: mtcnn in /usr/local/lib/python3.6/dist-packages (0.1.0)\n",
      "Requirement already satisfied: keras>=2.0.0 in /usr/local/lib/python3.6/dist-packages (from mtcnn) (2.3.1)\n",
      "Requirement already satisfied: opencv-python>=4.1.0 in /usr/local/lib/python3.6/dist-packages (from mtcnn) (4.1.2.30)\n",
      "Requirement already satisfied: numpy>=1.9.1 in /usr/local/lib/python3.6/dist-packages (from keras>=2.0.0->mtcnn) (1.18.2)\n",
      "Requirement already satisfied: h5py in /usr/local/lib/python3.6/dist-packages (from keras>=2.0.0->mtcnn) (2.10.0)\n",
      "Requirement already satisfied: keras-applications>=1.0.6 in /usr/local/lib/python3.6/dist-packages (from keras>=2.0.0->mtcnn) (1.0.8)\n",
      "Requirement already satisfied: pyyaml in /usr/local/lib/python3.6/dist-packages (from keras>=2.0.0->mtcnn) (3.13)\n",
      "Requirement already satisfied: scipy>=0.14 in /usr/local/lib/python3.6/dist-packages (from keras>=2.0.0->mtcnn) (1.4.1)\n",
      "Requirement already satisfied: six>=1.9.0 in /usr/local/lib/python3.6/dist-packages (from keras>=2.0.0->mtcnn) (1.12.0)\n",
      "Requirement already satisfied: keras-preprocessing>=1.0.5 in /usr/local/lib/python3.6/dist-packages (from keras>=2.0.0->mtcnn) (1.1.0)\n"
     ]
    }
   ],
   "source": [
    "!pip install mtcnn"
   ]
  },
  {
   "cell_type": "code",
   "execution_count": 0,
   "metadata": {
    "colab": {
     "base_uri": "https://localhost:8080/",
     "height": 343
    },
    "colab_type": "code",
    "executionInfo": {
     "elapsed": 11296,
     "status": "ok",
     "timestamp": 1587636338588,
     "user": {
      "displayName": "Mon Kira",
      "photoUrl": "https://lh3.googleusercontent.com/a-/AOh14Ghnd3_tIVPedIyrfyyHFqf1qFCu2R9crm6huM7naQ=s64",
      "userId": "12883883578266961117"
     },
     "user_tz": -420
    },
    "id": "8mKJ6ydPD4oO",
    "outputId": "2f1204ab-08f1-4fb6-9a42-9da1b8531882"
   },
   "outputs": [
    {
     "name": "stdout",
     "output_type": "stream",
     "text": [
      "Collecting git+https://github.com/rcmalli/keras-vggface.git\n",
      "  Cloning https://github.com/rcmalli/keras-vggface.git to /tmp/pip-req-build-xm1zwpey\n",
      "  Running command git clone -q https://github.com/rcmalli/keras-vggface.git /tmp/pip-req-build-xm1zwpey\n",
      "Requirement already satisfied (use --upgrade to upgrade): keras-vggface==0.6 from git+https://github.com/rcmalli/keras-vggface.git in /usr/local/lib/python3.6/dist-packages\n",
      "Requirement already satisfied: numpy>=1.9.1 in /usr/local/lib/python3.6/dist-packages (from keras-vggface==0.6) (1.18.2)\n",
      "Requirement already satisfied: scipy>=0.14 in /usr/local/lib/python3.6/dist-packages (from keras-vggface==0.6) (1.4.1)\n",
      "Requirement already satisfied: h5py in /usr/local/lib/python3.6/dist-packages (from keras-vggface==0.6) (2.10.0)\n",
      "Requirement already satisfied: pillow in /usr/local/lib/python3.6/dist-packages (from keras-vggface==0.6) (7.0.0)\n",
      "Requirement already satisfied: keras in /usr/local/lib/python3.6/dist-packages (from keras-vggface==0.6) (2.3.1)\n",
      "Requirement already satisfied: six>=1.9.0 in /usr/local/lib/python3.6/dist-packages (from keras-vggface==0.6) (1.12.0)\n",
      "Requirement already satisfied: pyyaml in /usr/local/lib/python3.6/dist-packages (from keras-vggface==0.6) (3.13)\n",
      "Requirement already satisfied: keras-applications>=1.0.6 in /usr/local/lib/python3.6/dist-packages (from keras->keras-vggface==0.6) (1.0.8)\n",
      "Requirement already satisfied: keras-preprocessing>=1.0.5 in /usr/local/lib/python3.6/dist-packages (from keras->keras-vggface==0.6) (1.1.0)\n",
      "Building wheels for collected packages: keras-vggface\n",
      "  Building wheel for keras-vggface (setup.py) ... \u001b[?25l\u001b[?25hdone\n",
      "  Created wheel for keras-vggface: filename=keras_vggface-0.6-cp36-none-any.whl size=8311 sha256=b4ea1bcf94bd000017327de9f444cc05744c0108f6ce742ea0b8b62fc62ed29b\n",
      "  Stored in directory: /tmp/pip-ephem-wheel-cache-_7ukiy7p/wheels/36/07/46/06c25ce8e9cd396dabe151ea1d8a2bc28dafcb11321c1f3a6d\n",
      "Successfully built keras-vggface\n"
     ]
    }
   ],
   "source": [
    "!pip install git+https://github.com/rcmalli/keras-vggface.git"
   ]
  },
  {
   "cell_type": "code",
   "execution_count": 0,
   "metadata": {
    "colab": {
     "base_uri": "https://localhost:8080/",
     "height": 34
    },
    "colab_type": "code",
    "executionInfo": {
     "elapsed": 9978,
     "status": "ok",
     "timestamp": 1587636351651,
     "user": {
      "displayName": "Mon Kira",
      "photoUrl": "https://lh3.googleusercontent.com/a-/AOh14Ghnd3_tIVPedIyrfyyHFqf1qFCu2R9crm6huM7naQ=s64",
      "userId": "12883883578266961117"
     },
     "user_tz": -420
    },
    "id": "1aph2up3FWwE",
    "outputId": "ccaea591-7ee9-4ab7-9292-0da14c144108"
   },
   "outputs": [
    {
     "name": "stderr",
     "output_type": "stream",
     "text": [
      "Using TensorFlow backend.\n"
     ]
    }
   ],
   "source": [
    "from PIL import Image\n",
    "from mtcnn.mtcnn import MTCNN\n",
    "import numpy as np\n",
    "import matplotlib.pyplot as plt\n",
    "import tensorflow.keras\n",
    "from sklearn.model_selection import train_test_split\n",
    "from sklearn.preprocessing import LabelEncoder\n",
    "import pickle\n",
    "from tensorflow.keras.utils import to_categorical\n",
    "import os"
   ]
  },
  {
   "cell_type": "code",
   "execution_count": 0,
   "metadata": {
    "colab": {
     "base_uri": "https://localhost:8080/",
     "height": 71
    },
    "colab_type": "code",
    "executionInfo": {
     "elapsed": 39145,
     "status": "ok",
     "timestamp": 1587636391664,
     "user": {
      "displayName": "Mon Kira",
      "photoUrl": "https://lh3.googleusercontent.com/a-/AOh14Ghnd3_tIVPedIyrfyyHFqf1qFCu2R9crm6huM7naQ=s64",
      "userId": "12883883578266961117"
     },
     "user_tz": -420
    },
    "id": "GzPzCToWFKxs",
    "outputId": "07f9e478-eb06-4339-b7b6-87ffe698cc60"
   },
   "outputs": [
    {
     "name": "stderr",
     "output_type": "stream",
     "text": [
      "/usr/local/lib/python3.6/dist-packages/ipykernel_launcher.py:4: DeprecationWarning: np.asscalar(a) is deprecated since NumPy v1.16, use a.item() instead\n",
      "  after removing the cwd from sys.path.\n"
     ]
    }
   ],
   "source": [
    "DATA_FILE = \"data_face.npz\"\n",
    "data = np.load(DATA_FILE)\n",
    "data_X,data_y,num_class = data[\"arr_0\"],data[\"arr_1\"],data[\"arr_2\"]\n",
    "num_class = np.asscalar(num_class)"
   ]
  },
  {
   "cell_type": "code",
   "execution_count": 0,
   "metadata": {
    "colab": {
     "base_uri": "https://localhost:8080/",
     "height": 68
    },
    "colab_type": "code",
    "executionInfo": {
     "elapsed": 837,
     "status": "ok",
     "timestamp": 1587636393235,
     "user": {
      "displayName": "Mon Kira",
      "photoUrl": "https://lh3.googleusercontent.com/a-/AOh14Ghnd3_tIVPedIyrfyyHFqf1qFCu2R9crm6huM7naQ=s64",
      "userId": "12883883578266961117"
     },
     "user_tz": -420
    },
    "id": "D5fMm_PbFx0p",
    "outputId": "4b94c4c8-82d0-4660-9e5e-c924ab744232"
   },
   "outputs": [
    {
     "name": "stdout",
     "output_type": "stream",
     "text": [
      "(13224, 224, 224, 3)\n",
      "(13224, 1)\n",
      "76\n"
     ]
    }
   ],
   "source": [
    "data_X = data_X.reshape(data_X.shape[0], 224, 224 , 3)\n",
    "data_y = data_y.reshape(data_y.shape[0], 1)\n",
    "print(data_X.shape)\n",
    "print(data_y.shape)\n",
    "print(num_class)"
   ]
  },
  {
   "cell_type": "code",
   "execution_count": 0,
   "metadata": {
    "colab": {
     "base_uri": "https://localhost:8080/",
     "height": 51
    },
    "colab_type": "code",
    "executionInfo": {
     "elapsed": 1867,
     "status": "ok",
     "timestamp": 1587636396922,
     "user": {
      "displayName": "Mon Kira",
      "photoUrl": "https://lh3.googleusercontent.com/a-/AOh14Ghnd3_tIVPedIyrfyyHFqf1qFCu2R9crm6huM7naQ=s64",
      "userId": "12883883578266961117"
     },
     "user_tz": -420
    },
    "id": "WRU5slGqGwaq",
    "outputId": "6a8debfe-3f45-492d-d55c-f5c1a7da1410"
   },
   "outputs": [
    {
     "name": "stdout",
     "output_type": "stream",
     "text": [
      "(10579, 224, 224, 3)\n",
      "(10579, 1)\n"
     ]
    }
   ],
   "source": [
    "X_train, X_test, y_train, y_test = train_test_split(data_X, data_y, test_size = 0.2, shuffle = True)\n",
    "print(X_train.shape)\n",
    "print(y_train.shape)"
   ]
  },
  {
   "cell_type": "code",
   "execution_count": 0,
   "metadata": {
    "colab": {
     "base_uri": "https://localhost:8080/",
     "height": 51
    },
    "colab_type": "code",
    "executionInfo": {
     "elapsed": 1299,
     "status": "ok",
     "timestamp": 1587636400487,
     "user": {
      "displayName": "Mon Kira",
      "photoUrl": "https://lh3.googleusercontent.com/a-/AOh14Ghnd3_tIVPedIyrfyyHFqf1qFCu2R9crm6huM7naQ=s64",
      "userId": "12883883578266961117"
     },
     "user_tz": -420
    },
    "id": "vAiJg8DKHcEP",
    "outputId": "41223534-4dff-4ebc-f80c-e24f7057fab2"
   },
   "outputs": [
    {
     "name": "stdout",
     "output_type": "stream",
     "text": [
      "(8000, 224, 224, 3)\n",
      "(8000, 76)\n"
     ]
    }
   ],
   "source": [
    "X_val, y_val = X_train[8000:], y_train[8000:]\n",
    "X_train, y_train = X_train[:8000], y_train[:8000]\n",
    "y_train = to_categorical(y_train, num_class)\n",
    "y_val = to_categorical(y_val, num_class)\n",
    "y_test = to_categorical(y_test, num_class)\n",
    "print(X_train.shape)\n",
    "print(y_train.shape)"
   ]
  },
  {
   "cell_type": "code",
   "execution_count": 0,
   "metadata": {
    "colab": {},
    "colab_type": "code",
    "id": "LHE_a5mbHedL"
   },
   "outputs": [],
   "source": [
    "import keras\n",
    "from keras import backend as K\n",
    "import tensorflow as tf\n",
    "from keras_vggface.vggface import VGGFace\n",
    "from keras.layers import Dense,Flatten,Dropout,Input\n",
    "from keras.models import Sequential,Model,load_model\n",
    "from keras.preprocessing.image import ImageDataGenerator\n",
    "from keras import regularizers"
   ]
  },
  {
   "cell_type": "code",
   "execution_count": 0,
   "metadata": {
    "colab": {},
    "colab_type": "code",
    "id": "W3pNzwmdUZpE"
   },
   "outputs": [],
   "source": [
    "# Load model VGG 16 weights của vggface, include_top=False để bỏ phần Fully connected layer ở cuối.\n",
    "baseModel = VGGFace(model='vgg16',weights='vggface', include_top=False, input_tensor=Input(shape=(224, 224, 3)))\n",
    "\n",
    "# Xây thêm các layer\n",
    "# Lấy output của ConvNet trong VGG16\n",
    "fcHead = baseModel.output\n",
    "\n",
    "# Flatten trước khi dùng FCs\n",
    "fcHead = Flatten(name='flatten')(fcHead)\n",
    "\n",
    "# Thêm FC\n",
    "fcHead = Dense(256, activation='relu')(fcHead)\n",
    "fcHead = Dropout(0.5)(fcHead)\n",
    "\n",
    "# Output layer với softmax activation\n",
    "fcHead = Dense(76, activation='softmax')(fcHead)\n",
    "\n",
    "# Xây dựng model bằng việc nối ConvNet của VGG16 và fcHead\n",
    "model  = Model(inputs=baseModel.input, outputs=fcHead)"
   ]
  },
  {
   "cell_type": "code",
   "execution_count": 0,
   "metadata": {
    "colab": {},
    "colab_type": "code",
    "id": "ts0oxOt9RzA0"
   },
   "outputs": [],
   "source": [
    "# augmentation cho training data\n",
    "aug_train = ImageDataGenerator(rescale=1./255, rotation_range=30, width_shift_range=0.1, height_shift_range=0.1, shear_range=0.2, \n",
    "                         zoom_range=0.2, horizontal_flip=True, fill_mode='nearest')\n",
    "# augementation cho test\n",
    "aug_test= ImageDataGenerator(rescale=1./255)"
   ]
  },
  {
   "cell_type": "code",
   "execution_count": 0,
   "metadata": {
    "colab": {
     "base_uri": "https://localhost:8080/",
     "height": 867
    },
    "colab_type": "code",
    "executionInfo": {
     "elapsed": 2838865,
     "status": "ok",
     "timestamp": 1587635840986,
     "user": {
      "displayName": "Mon Kira",
      "photoUrl": "https://lh3.googleusercontent.com/a-/AOh14Ghnd3_tIVPedIyrfyyHFqf1qFCu2R9crm6huM7naQ=s64",
      "userId": "12883883578266961117"
     },
     "user_tz": -420
    },
    "id": "ZJOhL40uR2gR",
    "outputId": "544f6d7e-3881-4e49-dc32-b9c4380d6cd0"
   },
   "outputs": [
    {
     "name": "stdout",
     "output_type": "stream",
     "text": [
      "Epoch 1/25\n",
      "250/250 [==============================] - 122s 488ms/step - loss: 3.9288 - accuracy: 0.1058 - val_loss: 2.6428 - val_accuracy: 0.4729\n",
      "Epoch 2/25\n",
      "250/250 [==============================] - 116s 464ms/step - loss: 2.9268 - accuracy: 0.3001 - val_loss: 1.6266 - val_accuracy: 0.6965\n",
      "Epoch 3/25\n",
      "250/250 [==============================] - 113s 451ms/step - loss: 2.3188 - accuracy: 0.4265 - val_loss: 1.3870 - val_accuracy: 0.7459\n",
      "Epoch 4/25\n",
      "250/250 [==============================] - 113s 453ms/step - loss: 1.9648 - accuracy: 0.5063 - val_loss: 1.1516 - val_accuracy: 0.8132\n",
      "Epoch 5/25\n",
      "250/250 [==============================] - 113s 452ms/step - loss: 1.7260 - accuracy: 0.5648 - val_loss: 0.5396 - val_accuracy: 0.8247\n",
      "Epoch 6/25\n",
      "250/250 [==============================] - 112s 449ms/step - loss: 1.5611 - accuracy: 0.5955 - val_loss: 0.3999 - val_accuracy: 0.8565\n",
      "Epoch 7/25\n",
      "250/250 [==============================] - 113s 453ms/step - loss: 1.4490 - accuracy: 0.6274 - val_loss: 0.6266 - val_accuracy: 0.8664\n",
      "Epoch 8/25\n",
      "250/250 [==============================] - 115s 460ms/step - loss: 1.3388 - accuracy: 0.6425 - val_loss: 0.3465 - val_accuracy: 0.8764\n",
      "Epoch 9/25\n",
      "250/250 [==============================] - 114s 455ms/step - loss: 1.2890 - accuracy: 0.6596 - val_loss: 0.2042 - val_accuracy: 0.8917\n",
      "Epoch 10/25\n",
      "250/250 [==============================] - 114s 454ms/step - loss: 1.2284 - accuracy: 0.6708 - val_loss: 0.3742 - val_accuracy: 0.9036\n",
      "Epoch 11/25\n",
      "250/250 [==============================] - 114s 455ms/step - loss: 1.1795 - accuracy: 0.6861 - val_loss: 0.2304 - val_accuracy: 0.9173\n",
      "Epoch 12/25\n",
      "250/250 [==============================] - 113s 452ms/step - loss: 1.1535 - accuracy: 0.6924 - val_loss: 0.3854 - val_accuracy: 0.9112\n",
      "Epoch 13/25\n",
      "250/250 [==============================] - 112s 450ms/step - loss: 1.1122 - accuracy: 0.7038 - val_loss: 0.1157 - val_accuracy: 0.9258\n",
      "Epoch 14/25\n",
      "250/250 [==============================] - 114s 455ms/step - loss: 1.0583 - accuracy: 0.7199 - val_loss: 0.1015 - val_accuracy: 0.9311\n",
      "Epoch 15/25\n",
      "250/250 [==============================] - 112s 449ms/step - loss: 1.0455 - accuracy: 0.7220 - val_loss: 0.1257 - val_accuracy: 0.9273\n",
      "Epoch 16/25\n",
      "250/250 [==============================] - 112s 450ms/step - loss: 0.9988 - accuracy: 0.7421 - val_loss: 0.1848 - val_accuracy: 0.9303\n",
      "Epoch 17/25\n",
      "250/250 [==============================] - 113s 451ms/step - loss: 0.9959 - accuracy: 0.7396 - val_loss: 0.3235 - val_accuracy: 0.9258\n",
      "Epoch 18/25\n",
      "250/250 [==============================] - 112s 446ms/step - loss: 0.9678 - accuracy: 0.7408 - val_loss: 0.3166 - val_accuracy: 0.9380\n",
      "Epoch 19/25\n",
      "250/250 [==============================] - 113s 451ms/step - loss: 0.9362 - accuracy: 0.7530 - val_loss: 0.2789 - val_accuracy: 0.9384\n",
      "Epoch 20/25\n",
      "250/250 [==============================] - 112s 447ms/step - loss: 0.9443 - accuracy: 0.7540 - val_loss: 0.2049 - val_accuracy: 0.9323\n",
      "Epoch 21/25\n",
      "250/250 [==============================] - 112s 447ms/step - loss: 0.9137 - accuracy: 0.7645 - val_loss: 0.1342 - val_accuracy: 0.9437\n",
      "Epoch 22/25\n",
      "250/250 [==============================] - 113s 453ms/step - loss: 0.8882 - accuracy: 0.7670 - val_loss: 0.2024 - val_accuracy: 0.9499\n",
      "Epoch 23/25\n",
      "250/250 [==============================] - 112s 450ms/step - loss: 0.8932 - accuracy: 0.7659 - val_loss: 0.0935 - val_accuracy: 0.9422\n",
      "Epoch 24/25\n",
      "250/250 [==============================] - 113s 451ms/step - loss: 0.8889 - accuracy: 0.7717 - val_loss: 0.2792 - val_accuracy: 0.9472\n",
      "Epoch 25/25\n",
      "250/250 [==============================] - 113s 451ms/step - loss: 0.8807 - accuracy: 0.7753 - val_loss: 0.0611 - val_accuracy: 0.9380\n"
     ]
    }
   ],
   "source": [
    "# freeze VGG model\n",
    "for layer in baseModel.layers:\n",
    "    layer.trainable = False\n",
    "    \n",
    "opt = keras.optimizers.RMSprop(0.001)\n",
    "model.compile(opt, 'categorical_crossentropy', ['accuracy'])\n",
    "numOfEpoch = 25\n",
    "H = model.fit_generator(aug_train.flow(X_train, y_train, batch_size=32), \n",
    "                        steps_per_epoch=len(X_train)//32,\n",
    "                        validation_data=(aug_test.flow(X_test, y_test, batch_size=32)),\n",
    "                        validation_steps=len(X_test)//32,\n",
    "                        epochs=numOfEpoch)"
   ]
  },
  {
   "cell_type": "code",
   "execution_count": 0,
   "metadata": {
    "colab": {
     "base_uri": "https://localhost:8080/",
     "height": 68
    },
    "colab_type": "code",
    "executionInfo": {
     "elapsed": 25164,
     "status": "ok",
     "timestamp": 1587636050675,
     "user": {
      "displayName": "Mon Kira",
      "photoUrl": "https://lh3.googleusercontent.com/a-/AOh14Ghnd3_tIVPedIyrfyyHFqf1qFCu2R9crm6huM7naQ=s64",
      "userId": "12883883578266961117"
     },
     "user_tz": -420
    },
    "id": "F6Jq3aYpehFC",
    "outputId": "203a9e82-d0ce-426f-b9cd-0a29a7a93a62"
   },
   "outputs": [
    {
     "name": "stdout",
     "output_type": "stream",
     "text": [
      "2645/2645 [==============================] - 24s 9ms/step\n",
      "Acccuracy:  94.48015093803406\n",
      "Loss:  40.51519584710066\n"
     ]
    }
   ],
   "source": [
    "#test\n",
    "scores = model.evaluate(X_test, y_test, verbose=1)\n",
    "print(\"Acccuracy: \", 100*scores[1])\n",
    "print(\"Loss: \", scores[0])"
   ]
  },
  {
   "cell_type": "code",
   "execution_count": 0,
   "metadata": {
    "colab": {},
    "colab_type": "code",
    "id": "5iGVcePsgVvm"
   },
   "outputs": [],
   "source": [
    "model = load_model(\"finetuningvgg16.hdf5\")"
   ]
  },
  {
   "cell_type": "code",
   "execution_count": 0,
   "metadata": {
    "colab": {
     "base_uri": "https://localhost:8080/",
     "height": 1000
    },
    "colab_type": "code",
    "executionInfo": {
     "elapsed": 3942083,
     "status": "ok",
     "timestamp": 1587640477556,
     "user": {
      "displayName": "Mon Kira",
      "photoUrl": "https://lh3.googleusercontent.com/a-/AOh14Ghnd3_tIVPedIyrfyyHFqf1qFCu2R9crm6huM7naQ=s64",
      "userId": "12883883578266961117"
     },
     "user_tz": -420
    },
    "id": "nJod1Mz8erLA",
    "outputId": "178411c9-3070-47b5-89f9-ac5fe8ca6f37"
   },
   "outputs": [
    {
     "name": "stdout",
     "output_type": "stream",
     "text": [
      "Epoch 1/35\n",
      "250/250 [==============================] - 124s 498ms/step - loss: 0.8704 - accuracy: 0.7721 - val_loss: 0.0205 - val_accuracy: 0.9722\n",
      "Epoch 2/35\n",
      "250/250 [==============================] - 118s 472ms/step - loss: 0.7680 - accuracy: 0.7908 - val_loss: 0.0184 - val_accuracy: 0.9705\n",
      "Epoch 3/35\n",
      "250/250 [==============================] - 115s 458ms/step - loss: 0.7276 - accuracy: 0.8067 - val_loss: 0.0647 - val_accuracy: 0.9767\n",
      "Epoch 4/35\n",
      "250/250 [==============================] - 115s 460ms/step - loss: 0.7101 - accuracy: 0.8077 - val_loss: 0.2878 - val_accuracy: 0.9763\n",
      "Epoch 5/35\n",
      "250/250 [==============================] - 114s 454ms/step - loss: 0.6590 - accuracy: 0.8231 - val_loss: 0.0487 - val_accuracy: 0.9793\n",
      "Epoch 6/35\n",
      "250/250 [==============================] - 114s 455ms/step - loss: 0.6432 - accuracy: 0.8241 - val_loss: 0.0150 - val_accuracy: 0.9721\n",
      "Epoch 7/35\n",
      "250/250 [==============================] - 115s 460ms/step - loss: 0.6008 - accuracy: 0.8330 - val_loss: 0.0131 - val_accuracy: 0.9786\n",
      "Epoch 8/35\n",
      "250/250 [==============================] - 114s 456ms/step - loss: 0.5962 - accuracy: 0.8401 - val_loss: 0.0083 - val_accuracy: 0.9778\n",
      "Epoch 9/35\n",
      "250/250 [==============================] - 113s 451ms/step - loss: 0.5872 - accuracy: 0.8418 - val_loss: 0.0628 - val_accuracy: 0.9797\n",
      "Epoch 10/35\n",
      "250/250 [==============================] - 114s 455ms/step - loss: 0.5417 - accuracy: 0.8500 - val_loss: 0.0049 - val_accuracy: 0.9816\n",
      "Epoch 11/35\n",
      "250/250 [==============================] - 113s 453ms/step - loss: 0.5586 - accuracy: 0.8425 - val_loss: 0.1010 - val_accuracy: 0.9805\n",
      "Epoch 12/35\n",
      "250/250 [==============================] - 115s 459ms/step - loss: 0.5364 - accuracy: 0.8522 - val_loss: 0.0051 - val_accuracy: 0.9832\n",
      "Epoch 13/35\n",
      "250/250 [==============================] - 115s 459ms/step - loss: 0.4969 - accuracy: 0.8585 - val_loss: 0.0189 - val_accuracy: 0.9855\n",
      "Epoch 14/35\n",
      "250/250 [==============================] - 113s 451ms/step - loss: 0.4831 - accuracy: 0.8652 - val_loss: 0.0441 - val_accuracy: 0.9812\n",
      "Epoch 15/35\n",
      "250/250 [==============================] - 112s 448ms/step - loss: 0.4607 - accuracy: 0.8698 - val_loss: 0.1764 - val_accuracy: 0.9801\n",
      "Epoch 16/35\n",
      "250/250 [==============================] - 113s 453ms/step - loss: 0.4539 - accuracy: 0.8786 - val_loss: 0.0360 - val_accuracy: 0.9816\n",
      "Epoch 17/35\n",
      "250/250 [==============================] - 112s 450ms/step - loss: 0.4505 - accuracy: 0.8735 - val_loss: 0.1584 - val_accuracy: 0.9812\n",
      "Epoch 18/35\n",
      "250/250 [==============================] - 112s 448ms/step - loss: 0.4507 - accuracy: 0.8760 - val_loss: 0.0077 - val_accuracy: 0.9824\n",
      "Epoch 19/35\n",
      "250/250 [==============================] - 111s 443ms/step - loss: 0.4309 - accuracy: 0.8767 - val_loss: 0.0640 - val_accuracy: 0.9870\n",
      "Epoch 20/35\n",
      "250/250 [==============================] - 110s 441ms/step - loss: 0.4049 - accuracy: 0.8842 - val_loss: 0.0463 - val_accuracy: 0.9828\n",
      "Epoch 21/35\n",
      "250/250 [==============================] - 110s 440ms/step - loss: 0.4118 - accuracy: 0.8844 - val_loss: 0.0740 - val_accuracy: 0.9839\n",
      "Epoch 22/35\n",
      "250/250 [==============================] - 110s 441ms/step - loss: 0.3829 - accuracy: 0.8915 - val_loss: 0.0816 - val_accuracy: 0.9843\n",
      "Epoch 23/35\n",
      "250/250 [==============================] - 110s 439ms/step - loss: 0.3769 - accuracy: 0.8936 - val_loss: 0.0451 - val_accuracy: 0.9858\n",
      "Epoch 24/35\n",
      "250/250 [==============================] - 110s 439ms/step - loss: 0.3815 - accuracy: 0.8920 - val_loss: 0.0840 - val_accuracy: 0.9835\n",
      "Epoch 25/35\n",
      "250/250 [==============================] - 112s 447ms/step - loss: 0.3774 - accuracy: 0.8970 - val_loss: 7.7245e-04 - val_accuracy: 0.9858\n",
      "Epoch 26/35\n",
      "250/250 [==============================] - 110s 438ms/step - loss: 0.3578 - accuracy: 0.8986 - val_loss: 0.0094 - val_accuracy: 0.9885\n",
      "Epoch 27/35\n",
      "250/250 [==============================] - 111s 443ms/step - loss: 0.3615 - accuracy: 0.8969 - val_loss: 0.0080 - val_accuracy: 0.9832\n",
      "Epoch 28/35\n",
      "250/250 [==============================] - 109s 437ms/step - loss: 0.3598 - accuracy: 0.8940 - val_loss: 0.2010 - val_accuracy: 0.9839\n",
      "Epoch 29/35\n",
      "250/250 [==============================] - 111s 442ms/step - loss: 0.3637 - accuracy: 0.8941 - val_loss: 0.0483 - val_accuracy: 0.9874\n",
      "Epoch 30/35\n",
      "250/250 [==============================] - 110s 440ms/step - loss: 0.3319 - accuracy: 0.9066 - val_loss: 6.1970e-04 - val_accuracy: 0.9881\n",
      "Epoch 31/35\n",
      "250/250 [==============================] - 110s 441ms/step - loss: 0.3115 - accuracy: 0.9078 - val_loss: 0.1257 - val_accuracy: 0.9855\n",
      "Epoch 32/35\n",
      "250/250 [==============================] - 111s 444ms/step - loss: 0.3174 - accuracy: 0.9071 - val_loss: 0.0757 - val_accuracy: 0.9874\n",
      "Epoch 33/35\n",
      "250/250 [==============================] - 111s 445ms/step - loss: 0.3112 - accuracy: 0.9086 - val_loss: 0.0034 - val_accuracy: 0.9874\n",
      "Epoch 34/35\n",
      "250/250 [==============================] - 112s 446ms/step - loss: 0.3132 - accuracy: 0.9080 - val_loss: 0.0157 - val_accuracy: 0.9847\n",
      "Epoch 35/35\n",
      "250/250 [==============================] - 112s 447ms/step - loss: 0.3216 - accuracy: 0.9069 - val_loss: 0.0179 - val_accuracy: 0.9897\n"
     ]
    }
   ],
   "source": [
    "# unfreeze some last CNN layer:\n",
    "for layer in baseModel.layers[15:]:\n",
    "    layer.trainable = True\n",
    "\n",
    "numOfEpoch = 35\n",
    "opt = keras.optimizers.SGD(0.001)\n",
    "model.compile(opt, 'categorical_crossentropy', ['accuracy'])\n",
    "H = model.fit_generator(aug_train.flow(X_train, y_train, batch_size=32), \n",
    "                        steps_per_epoch=len(X_train)//32,\n",
    "                        validation_data=(aug_test.flow(X_test, y_test, batch_size=32)),\n",
    "                        validation_steps=len(X_test)//32,\n",
    "                        epochs=numOfEpoch)"
   ]
  },
  {
   "cell_type": "code",
   "execution_count": 0,
   "metadata": {
    "colab": {},
    "colab_type": "code",
    "id": "Yq8I0L_gfm_M"
   },
   "outputs": [],
   "source": [
    "model.save('finetuningvgg16.hdf5')"
   ]
  },
  {
   "cell_type": "code",
   "execution_count": 0,
   "metadata": {
    "colab": {
     "base_uri": "https://localhost:8080/",
     "height": 68
    },
    "colab_type": "code",
    "executionInfo": {
     "elapsed": 25176,
     "status": "ok",
     "timestamp": 1587640764641,
     "user": {
      "displayName": "Mon Kira",
      "photoUrl": "https://lh3.googleusercontent.com/a-/AOh14Ghnd3_tIVPedIyrfyyHFqf1qFCu2R9crm6huM7naQ=s64",
      "userId": "12883883578266961117"
     },
     "user_tz": -420
    },
    "id": "TrgFGujJfxUg",
    "outputId": "510e74ff-cf07-4148-d351-c3569d437a85"
   },
   "outputs": [
    {
     "name": "stdout",
     "output_type": "stream",
     "text": [
      "2645/2645 [==============================] - 24s 9ms/step\n",
      "Acccuracy:  98.67674708366394\n",
      "Loss:  6.676836643174347\n"
     ]
    }
   ],
   "source": [
    "#test\n",
    "scores = model.evaluate(X_test, y_test, verbose=1)\n",
    "print(\"Acccuracy: \", 100*scores[1])\n",
    "print(\"Loss: \", scores[0])"
   ]
  },
  {
   "cell_type": "code",
   "execution_count": 0,
   "metadata": {
    "colab": {},
    "colab_type": "code",
    "id": "fcSAoOuowyXo"
   },
   "outputs": [],
   "source": [
    "y_predict = model.predict(X_test)"
   ]
  },
  {
   "cell_type": "code",
   "execution_count": 0,
   "metadata": {
    "colab": {},
    "colab_type": "code",
    "id": "a0N4OeXByato"
   },
   "outputs": [],
   "source": [
    "predict_wrong = []\n",
    "label_predict_wrong = []\n",
    "for i in range(y_test.shape[0]):\n",
    "  if np.argmax(y_predict[i]) != np.argmax(y_test[i]):\n",
    "    predict_wrong.append(i)\n",
    "    label_predict_wrong.append(np.argmax(y_predict[i]))"
   ]
  },
  {
   "cell_type": "code",
   "execution_count": 0,
   "metadata": {
    "colab": {
     "base_uri": "https://localhost:8080/",
     "height": 54
    },
    "colab_type": "code",
    "executionInfo": {
     "elapsed": 1062,
     "status": "ok",
     "timestamp": 1587641783226,
     "user": {
      "displayName": "Mon Kira",
      "photoUrl": "https://lh3.googleusercontent.com/a-/AOh14Ghnd3_tIVPedIyrfyyHFqf1qFCu2R9crm6huM7naQ=s64",
      "userId": "12883883578266961117"
     },
     "user_tz": -420
    },
    "id": "gNYxQBb_yiWW",
    "outputId": "75d16fb9-1a52-4ac7-fcec-9b6cd8d9a7a4"
   },
   "outputs": [
    {
     "name": "stdout",
     "output_type": "stream",
     "text": [
      "[(1, 2), (2, 1), (3, 2), (6, 1), (8, 1), (11, 1), (13, 1), (15, 1), (18, 3), (28, 2), (30, 1), (32, 2), (39, 1), (40, 4), (41, 1), (48, 1), (51, 1), (56, 2), (57, 1), (58, 1), (59, 1), (62, 2), (68, 1), (73, 1)]\n"
     ]
    }
   ],
   "source": [
    "from  collections import Counter\n",
    "print(sorted(Counter(label_predict_wrong).items()))"
   ]
  },
  {
   "cell_type": "code",
   "execution_count": 0,
   "metadata": {
    "colab": {
     "base_uri": "https://localhost:8080/",
     "height": 71
    },
    "colab_type": "code",
    "executionInfo": {
     "elapsed": 2624,
     "status": "ok",
     "timestamp": 1587641879341,
     "user": {
      "displayName": "Mon Kira",
      "photoUrl": "https://lh3.googleusercontent.com/a-/AOh14Ghnd3_tIVPedIyrfyyHFqf1qFCu2R9crm6huM7naQ=s64",
      "userId": "12883883578266961117"
     },
     "user_tz": -420
    },
    "id": "n0vlvf09zYwe",
    "outputId": "9c1addaa-f3ea-4836-be51-dd374905f3ef"
   },
   "outputs": [
    {
     "name": "stderr",
     "output_type": "stream",
     "text": [
      "/usr/local/lib/python3.6/dist-packages/sklearn/base.py:318: UserWarning: Trying to unpickle estimator LabelEncoder from version 0.22.1 when using version 0.22.2.post1. This might lead to breaking code or invalid results. Use at your own risk.\n",
      "  UserWarning)\n"
     ]
    }
   ],
   "source": [
    "# Load ouput_enc từ file để hiển thị nhãn\n",
    "pkl_filename = 'data_y_enc.pkl'\n",
    "with open(pkl_filename, 'rb') as file:\n",
    "    output_enc = pickle.load(file)"
   ]
  },
  {
   "cell_type": "code",
   "execution_count": 0,
   "metadata": {
    "colab": {
     "base_uri": "https://localhost:8080/",
     "height": 303
    },
    "colab_type": "code",
    "executionInfo": {
     "elapsed": 3121,
     "status": "ok",
     "timestamp": 1587644267520,
     "user": {
      "displayName": "Mon Kira",
      "photoUrl": "https://lh3.googleusercontent.com/a-/AOh14Ghnd3_tIVPedIyrfyyHFqf1qFCu2R9crm6huM7naQ=s64",
      "userId": "12883883578266961117"
     },
     "user_tz": -420
    },
    "id": "e--YtiP13qMg",
    "outputId": "184e4457-1f8b-4488-b88b-c2e8bb0752d8"
   },
   "outputs": [
    {
     "name": "stdout",
     "output_type": "stream",
     "text": [
      "Name Idol predict: ['Mana Sakura']\n",
      "Name Idol true: Mana Sakura\n"
     ]
    },
    {
     "data": {
      "image/png": "[encoded data removed]",
      "text/plain": [
       "<Figure size 432x288 with 1 Axes>"
      ]
     },
     "metadata": {
      "needs_background": "light",
      "tags": []
     },
     "output_type": "display_data"
    }
   ],
   "source": [
    "image = Image.open(\"test5.jpg\")\n",
    "image =image.convert(\"RGB\")\n",
    "plt.imshow(image)\n",
    "image = np.asarray(image)\n",
    "image = image.reshape(1,224,224,3)\n",
    "predict = model.predict(image)\n",
    "\n",
    "name_idol_true = \"Mana Sakura\"\n",
    "name_idol_predict = output_enc.inverse_transform([np.argmax(predict)])\n",
    "print(\"Name Idol predict: \" + str(name_idol_predict ))\n",
    "print(\"Name Idol true: \" + name_idol_true)"
   ]
  },
  {
   "cell_type": "code",
   "execution_count": 0,
   "metadata": {
    "colab": {},
    "colab_type": "code",
    "id": "HHha3aNX5fSR"
   },
   "outputs": [],
   "source": []
  }
 ],
 "metadata": {
  "accelerator": "GPU",
  "colab": {
   "authorship_tag": "ABX9TyNk3b/lls2/GpieqcWpJUto",
   "machine_shape": "hm",
   "mount_file_id": "1iDU1C9A-CyfShRyXRco1vo4wQ1AJ4YeX",
   "name": "ModelJAVIdolRecognition.ipynb",
   "provenance": []
  },
  "kernelspec": {
   "display_name": "Python 3",
   "language": "python",
   "name": "python3"
  },
  "language_info": {
   "codemirror_mode": {
    "name": "ipython",
    "version": 3
   },
   "file_extension": ".py",
   "mimetype": "text/x-python",
   "name": "python",
   "nbconvert_exporter": "python",
   "pygments_lexer": "ipython3",
   "version": "3.7.4"
  }
 },
 "nbformat": 4,
 "nbformat_minor": 1
}
